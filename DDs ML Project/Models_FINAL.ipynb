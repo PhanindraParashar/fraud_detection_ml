{
 "cells": [
  {
   "cell_type": "markdown",
   "metadata": {},
   "source": [
    "# Setting up train and test data for Model evaluation"
   ]
  },
  {
   "cell_type": "code",
   "execution_count": null,
   "metadata": {},
   "outputs": [],
   "source": [
    "Df_train = pd.read_csv(r'Train_set_knn_1.csv')\n",
    "Df_test = pd.read_csv(r'Test_set_knn_1.csv')\n",
    "\n",
    "cols = [c for c in Df_train.columns if c!= 'Actual op']\n",
    "x_train = Df_train[cols]\n",
    "x_test = Df_test[cols]\n",
    "y_train = Df_train['Actual op']\n",
    "y_test = Df_test['Actual op']\n",
    "\n",
    "del x_train['Unnamed: 0']\n",
    "del x_test['Unnamed: 0']"
   ]
  },
  {
   "cell_type": "code",
   "execution_count": null,
   "metadata": {},
   "outputs": [],
   "source": []
  },
  {
   "cell_type": "markdown",
   "metadata": {},
   "source": [
    "# Settingup the pipelines for different Classification models\n",
    "\n",
    "## With hyperparameter tuning"
   ]
  },
  {
   "cell_type": "code",
   "execution_count": null,
   "metadata": {},
   "outputs": [],
   "source": [
    "cv = KFold(n_splits=5, shuffle=True)\n",
    "\n",
    "parameters_knn = {'n_neighbors':[3,5,11,19], 'weights':['uniform','distance'], 'metric':['euclidean','manhattan']}\n",
    "parameters_random_forest = {'n_estimators': [500,800],'max_depth' : [8,12,16,20]}\n",
    "parameters_descision_tree = {'min_samples_split' : range(10,30,1),'max_depth': range(10,25,2)}\n",
    "parameters_svm_linear = {'gamma':np.logspace(-6,-2,5), 'C':np.logspace(0,2,10)}\n",
    "parameters_svm_rbf = {'C':np.logspace(1,2,5)}\n",
    "parameters_logestic = {'penalty' = ['l1','l2'],'C':np.logspace(0,2,5)}\n",
    "\n",
    "KNN = make_pipeline(\n",
    "    StandardScaler(),\n",
    "    GridSearchCV(estimator=KNeighborsClassifier(),param_grid = parameters_knn,scoring = 'f1',cv=cv)\n",
    "    \n",
    ")\n",
    "\n",
    "Random_Forest = make_pipeline(\n",
    "StandardScaler(),\n",
    "GridSearchCV(estimator=RandomForestClassifier(), param_grid=parameters_ramdom_forest, cv= cv)\n",
    ")\n",
    "\n",
    "\n",
    "Descision_tree = make_pipeline(\n",
    "    StandardScaler(),\n",
    "    GridSearchCV(estimator=DecisionTreeClassifier(),param_grid = parameters_descision_tree,scoring='f1',cv= cv)\n",
    ")\n",
    "\n",
    "SVM_linear = make_pipeline(\n",
    "    StandardScaler(),\n",
    "    GridSearchCV(estimator=SVC(kernel='linear',max_iter = 10000),param_grid = parameters_svm_linear,scoring = 'f1',cv=cv)\n",
    ")\n",
    "\n",
    "SVM_rbf = make_pipeline(\n",
    "    StandardScaler(),\n",
    "    GridSearchCV(estimator=SVC(kernel='rbf',max_iter = 10000),param_grid = parameters_rbf,scoring = 'f1',cv=cv)\n",
    ")\n",
    "\n",
    "Logestic_regression = make_pipeline(\n",
    "    StandardScaler(),\n",
    "    GridSearchCV(estimator=LogisticRegression(),param_grid = parameters_logestic,scoring = 'f1',cv=cv)\n",
    ")"
   ]
  },
  {
   "cell_type": "markdown",
   "metadata": {},
   "source": [
    "# Making a function that returns best parameters and the cross validated scores"
   ]
  },
  {
   "cell_type": "code",
   "execution_count": null,
   "metadata": {},
   "outputs": [],
   "source": [
    "def score_model(model):\n",
    "    score = cross_val_score(KNN_pipe.fit(x_train,y_train), x_train, y_train,scoring='f1', cv=cv)\n",
    "    best_par = KNN_pipe[1].best_params_\n",
    "    return np.mean(score),best_par"
   ]
  },
  {
   "cell_type": "code",
   "execution_count": null,
   "metadata": {},
   "outputs": [],
   "source": [
    "models = [KNN,Random_Forest,Descision_tree,SVM_linear,SVM_rbf,Logestic_regression]"
   ]
  },
  {
   "cell_type": "code",
   "execution_count": null,
   "metadata": {},
   "outputs": [],
   "source": [
    "scores_models = []\n",
    "parameters_models = []\n",
    "for model in models:\n",
    "    Score,Parameters = score_model(model)\n",
    "    scores_models.append(Score)\n",
    "    parameters_models.append(Parameters)"
   ]
  }
 ],
 "metadata": {
  "kernelspec": {
   "display_name": "Python 3",
   "language": "python",
   "name": "python3"
  },
  "language_info": {
   "codemirror_mode": {
    "name": "ipython",
    "version": 3
   },
   "file_extension": ".py",
   "mimetype": "text/x-python",
   "name": "python",
   "nbconvert_exporter": "python",
   "pygments_lexer": "ipython3",
   "version": "3.7.3"
  }
 },
 "nbformat": 4,
 "nbformat_minor": 2
}
